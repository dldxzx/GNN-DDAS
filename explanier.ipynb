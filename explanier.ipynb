{
 "cells": [
  {
   "cell_type": "code",
   "execution_count": 11,
   "metadata": {},
   "outputs": [],
   "source": [
    "import numpy as np\n",
    "import logging\n",
    "import os \n",
    "from tqdm import tqdm\n",
    "from torch import optim\n",
    "import torch.nn as nn\n",
    "import pandas as pd\n",
    "import torch_geometric.transforms as T\n",
    "import matplotlib.pyplot as plt\n",
    "import torch\n",
    "import torch.nn.functional as F\n",
    "from torch_geometric.nn.conv import MessagePassing\n",
    "from torch.nn import Linear\n",
    "import torch.nn.functional as F\n",
    "from torch_geometric.nn import GCNConv, GNNExplainer\n",
    "from torch_geometric.loader import DataLoader\n",
    "from utils.model_explainable import explainer,Config\n",
    "from utils.graph_dataset import SMILESDataset, smiles_string, smiles_to_one_hot\n",
    "from sklearn.metrics import matthews_corrcoef, f1_score, cohen_kappa_score, accuracy_score, auc, roc_auc_score, average_precision_score, precision_score\n",
    "from utils.edgeshaper import edgeshaper\n",
    "import networkx as nx\n",
    "import matplotlib.pyplot as plt\n",
    "from torch_geometric.utils import to_networkx\n",
    "from rdkit_heatmaps import mapvalues2mol\n",
    "from rdkit_heatmaps.utils import transform2png\n",
    "from rdkit import Chem\n",
    "from rdkit.Chem import Draw"
   ]
  },
  {
   "cell_type": "code",
   "execution_count": 2,
   "metadata": {},
   "outputs": [],
   "source": [
    "config = Config.from_dict({\n",
    "    \"transformer_layer\":2,\n",
    "    \"num_attention_heads\":8,\n",
    "    \"hidden_size\":256,\n",
    "    \"cnn_input_dim\": 256,\n",
    "    \"embedding_dim\": 65,\n",
    "    \"cnn_dropout\": 0.4,\n",
    "    \"cnn_output_dim\": 128,\n",
    "    \"gnn_input_dim\": 33,\n",
    "    \"gnn_head\": 8,\n",
    "    \"gnn_hidden_dim\":64,\n",
    "    \"gnn_output_dim\":128,\n",
    "    \"pool_input_dim\":128,\n",
    "    \"gnn_dropout\": 0.4,\n",
    "    \"num_class\": 1,\n",
    "    })"
   ]
  },
  {
   "cell_type": "code",
   "execution_count": 3,
   "metadata": {},
   "outputs": [],
   "source": [
    "model = explainer(config)"
   ]
  },
  {
   "cell_type": "code",
   "execution_count": 4,
   "metadata": {},
   "outputs": [],
   "source": [
    "model2 = torch.load('/home/zengxin/fpk/pycharm_project/GNN-DDAS/save_model/DL/one_label_gat/best_one_label_gat_merge_lr0.001_wdeacy0.01.pt')"
   ]
  },
  {
   "cell_type": "code",
   "execution_count": 5,
   "metadata": {},
   "outputs": [],
   "source": [
    "new_model_state_dict = model.state_dict()"
   ]
  },
  {
   "cell_type": "code",
   "execution_count": null,
   "metadata": {},
   "outputs": [],
   "source": [
    "for key in new_model_state_dict.keys():\n",
    "    if key in model2.keys():\n",
    "        try:\n",
    "            new_model_state_dict[key].copy_(model2[key])\n",
    "        except:\n",
    "            pass\n",
    "new_model_state_dict['fc_layer.0.weight'].copy_(model2['fc_layer.1.weight'])\n",
    "new_model_state_dict['fc_layer.0.bias'].copy_(model2['fc_layer.1.bias'])\n",
    "new_model_state_dict['fc_layer.1.weight'].copy_(model2['fc_layer.2.weight'])\n",
    "new_model_state_dict['fc_layer.1.bias'].copy_(model2['fc_layer.2.bias'])\n",
    "new_model_state_dict['fc_layer.3.weight'].copy_(model2['fc_layer.4.weight'])\n",
    "new_model_state_dict['fc_layer.3.bias'].copy_(model2['fc_layer.4.bias'])"
   ]
  },
  {
   "cell_type": "code",
   "execution_count": 7,
   "metadata": {},
   "outputs": [],
   "source": [
    "torch.manual_seed(42)\n",
    "torch.cuda.manual_seed(42)\n",
    "np.random.seed(42)\n"
   ]
  },
  {
   "cell_type": "code",
   "execution_count": 8,
   "metadata": {},
   "outputs": [],
   "source": [
    "# 数据文件路径\n",
    "test_root = '/home/zengxin/fpk/pycharm_project/GNN-DDAS/data/merge/merge_data/test_data'\n",
    "test_set = SMILESDataset(root=test_root,raw_dataset='test_data.csv',processed_data='test.pt')"
   ]
  },
  {
   "cell_type": "code",
   "execution_count": 12,
   "metadata": {},
   "outputs": [],
   "source": [
    "def visualize_explanations(test_cpd, phi_edges, SAVE_PATH=None, data=None):\n",
    "    \n",
    "    edge_index = test_cpd.edge_index.to(\"cpu\")\n",
    "\n",
    "    test_mol = Chem.MolFromSmiles(test_cpd.smiles)\n",
    "    test_mol = Draw.PrepareMolForDrawing(test_mol)\n",
    "\n",
    "    num_bonds = len(test_mol.GetBonds())\n",
    "\n",
    "    rdkit_bonds = {}\n",
    "\n",
    "    for i in range(num_bonds):\n",
    "        init_atom = test_mol.GetBondWithIdx(i).GetBeginAtomIdx()\n",
    "        end_atom = test_mol.GetBondWithIdx(i).GetEndAtomIdx()\n",
    "        \n",
    "        rdkit_bonds[(init_atom, end_atom)] = i\n",
    "\n",
    "    rdkit_bonds_phi = [0]*num_bonds\n",
    "    for i in range(len(phi_edges)):\n",
    "        phi_value = phi_edges[i]\n",
    "        init_atom = edge_index[0][i].item()\n",
    "        end_atom = edge_index[1][i].item()\n",
    "        \n",
    "        if (init_atom, end_atom) in rdkit_bonds:\n",
    "            bond_index = rdkit_bonds[(init_atom, end_atom)]\n",
    "            rdkit_bonds_phi[bond_index] += phi_value\n",
    "        if (end_atom, init_atom) in rdkit_bonds:\n",
    "            bond_index = rdkit_bonds[(end_atom, init_atom)]\n",
    "            rdkit_bonds_phi[bond_index] += phi_value\n",
    "\n",
    "    plt.clf()\n",
    "    canvas = mapvalues2mol(test_mol, None, rdkit_bonds_phi, atom_width=0.2, bond_length=0.5, bond_width=0.5) #TBD: only one direction for edges? bonds weights is wrt rdkit bonds order?\n",
    "    img = transform2png(canvas.GetDrawingText())\n",
    "\n",
    "    \n",
    "    if SAVE_PATH is not None:\n",
    "\n",
    "        img.save(SAVE_PATH + \"/\" + data+\"_gnnexplanier_edgeshaper.png\", dpi = (1200,1200))\n",
    "    \n",
    "    return img"
   ]
  },
  {
   "cell_type": "code",
   "execution_count": 27,
   "metadata": {},
   "outputs": [],
   "source": [
    "explainer = GNNExplainer(model, epochs=400,return_type='log_prob')"
   ]
  },
  {
   "cell_type": "code",
   "execution_count": null,
   "metadata": {},
   "outputs": [],
   "source": [
    "for idx,data in enumerate(test_set):\n",
    "    if data.y == 1:\n",
    "        node_feat_mask, edge_mask = explainer.explain_graph(data.x, data.edge_index)\n",
    "        ax, G = explainer.visualize_subgraph(-1,data.edge_index.to('cpu'), edge_mask.to('cpu'), data.y.to('cpu'),node_size=100)\n",
    "        plt.savefig(f'/home/zengxin/fpk/pycharm_project/GNN-DDAS/data/explanier/smiles_{idx}.png', dpi=1200, bbox_inches='tight')\n",
    "        edge_mask = np.array(edge_mask)\n",
    "        visualize_explanations(data,phi_edges=edge_mask,SAVE_PATH='/home/zengxin/fpk/pycharm_project/GNN-DDAS/data/explanier',data=f'{idx}')"
   ]
  },
  {
   "cell_type": "code",
   "execution_count": null,
   "metadata": {},
   "outputs": [],
   "source": []
  }
 ],
 "metadata": {
  "kernelspec": {
   "display_name": "fpk",
   "language": "python",
   "name": "python3"
  },
  "language_info": {
   "codemirror_mode": {
    "name": "ipython",
    "version": 3
   },
   "file_extension": ".py",
   "mimetype": "text/x-python",
   "name": "python",
   "nbconvert_exporter": "python",
   "pygments_lexer": "ipython3",
   "version": "3.8.18"
  }
 },
 "nbformat": 4,
 "nbformat_minor": 2
}
