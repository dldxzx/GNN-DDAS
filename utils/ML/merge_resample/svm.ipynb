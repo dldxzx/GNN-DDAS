{
 "cells": [
  {
   "cell_type": "code",
   "execution_count": 1,
   "metadata": {},
   "outputs": [
    {
     "name": "stderr",
     "output_type": "stream",
     "text": [
      "/home/zengxin/anaconda3/envs/fpk/lib/python3.8/site-packages/tqdm/auto.py:21: TqdmWarning: IProgress not found. Please update jupyter and ipywidgets. See https://ipywidgets.readthedocs.io/en/stable/user_install.html\n",
      "  from .autonotebook import tqdm as notebook_tqdm\n"
     ]
    }
   ],
   "source": [
    "import sys\n",
    "sys.path.append(\"/home/zengxin/fpk/pycharm_project/GNN-DDAS\")\n",
    "from sklearn.svm import SVC\n",
    "from sklearn.preprocessing import StandardScaler\n",
    "from sklearn.model_selection import GridSearchCV\n",
    "from sklearn.metrics import matthews_corrcoef,roc_auc_score,f1_score, cohen_kappa_score, roc_curve, auc, roc_auc_score, average_precision_score,accuracy_score\n",
    "import pickle\n",
    "from rdkit import Chem\n",
    "from rdkit.Chem import AllChem\n",
    "from rdkit.Chem import DataStructs\n",
    "import numpy as np\n",
    "from torch import tensor\n",
    "from utils.dataset import SMILESDataset\n",
    "from utils.resample import resampled\n",
    "np.random.seed(42)"
   ]
  },
  {
   "cell_type": "code",
   "execution_count": 2,
   "metadata": {},
   "outputs": [
    {
     "data": {
      "text/plain": [
       "{'#': 29,\n",
       " '%': 30,\n",
       " ')': 31,\n",
       " '(': 1,\n",
       " '+': 32,\n",
       " '-': 33,\n",
       " '/': 34,\n",
       " '.': 2,\n",
       " '1': 35,\n",
       " '0': 3,\n",
       " '3': 36,\n",
       " '2': 4,\n",
       " '5': 37,\n",
       " '4': 5,\n",
       " '7': 38,\n",
       " '6': 6,\n",
       " '9': 39,\n",
       " '8': 7,\n",
       " '=': 40,\n",
       " 'A': 41,\n",
       " '@': 8,\n",
       " 'C': 42,\n",
       " 'B': 9,\n",
       " 'E': 43,\n",
       " 'D': 10,\n",
       " 'G': 44,\n",
       " 'F': 11,\n",
       " 'I': 45,\n",
       " 'H': 12,\n",
       " 'K': 46,\n",
       " 'M': 47,\n",
       " 'L': 13,\n",
       " 'O': 48,\n",
       " 'N': 14,\n",
       " 'P': 15,\n",
       " 'S': 49,\n",
       " 'R': 16,\n",
       " 'U': 50,\n",
       " 'T': 17,\n",
       " 'W': 51,\n",
       " 'V': 18,\n",
       " 'Y': 52,\n",
       " '[': 53,\n",
       " 'Z': 19,\n",
       " ']': 54,\n",
       " '\\\\': 20,\n",
       " 'a': 55,\n",
       " 'c': 56,\n",
       " 'b': 21,\n",
       " 'e': 57,\n",
       " 'd': 22,\n",
       " 'g': 58,\n",
       " 'f': 23,\n",
       " 'i': 59,\n",
       " 'h': 24,\n",
       " 'm': 60,\n",
       " 'l': 25,\n",
       " 'o': 61,\n",
       " 'n': 26,\n",
       " 's': 62,\n",
       " 'r': 27,\n",
       " 'u': 63,\n",
       " 't': 28,\n",
       " 'y': 64,\n",
       " '*': 65}"
      ]
     },
     "execution_count": 2,
     "metadata": {},
     "output_type": "execute_result"
    }
   ],
   "source": [
    "# SMILES原子格式\n",
    "smiles_dict = {\"#\": 29, \"%\": 30, \")\": 31, \"(\": 1, \"+\": 32, \"-\": 33, \"/\": 34, \".\": 2, \n",
    "        \"1\": 35, \"0\": 3, \"3\": 36, \"2\": 4, \"5\": 37, \"4\": 5, \"7\": 38, \"6\": 6, \n",
    "        \"9\": 39, \"8\": 7, \"=\": 40, \"A\": 41, \"@\": 8, \"C\": 42, \"B\": 9, \"E\": 43, \n",
    "        \"D\": 10, \"G\": 44, \"F\": 11, \"I\": 45, \"H\": 12, \"K\": 46, \"M\": 47, \"L\": 13, \n",
    "        \"O\": 48, \"N\": 14, \"P\": 15, \"S\": 49, \"R\": 16, \"U\": 50, \"T\": 17, \"W\": 51, \n",
    "        \"V\": 18, \"Y\": 52, \"[\": 53, \"Z\": 19, \"]\": 54, \"\\\\\": 20, \"a\": 55, \"c\": 56, \n",
    "        \"b\": 21, \"e\": 57, \"d\": 22, \"g\": 58, \"f\": 23, \"i\": 59, \"h\": 24, \"m\": 60, \n",
    "        \"l\": 25, \"o\": 61, \"n\": 26, \"s\": 62, \"r\": 27, \"u\": 63, \"t\": 28, \"y\": 64,\"*\":65}\n",
    "smiles_dict"
   ]
  },
  {
   "cell_type": "code",
   "execution_count": 3,
   "metadata": {},
   "outputs": [],
   "source": [
    "def generate_ecfp6_fingerprint(smiles):\n",
    "    smiles = Chem.MolToSmiles(Chem.MolFromSmiles(smiles), isomericSmiles=True)\n",
    "    mol = Chem.MolFromSmiles(smiles)\n",
    "    fingerprint = AllChem.GetMorganFingerprintAsBitVect(mol, 6, nBits=1024)\n",
    "    fingerprint = fingerprint.ToBitString()\n",
    "    return fingerprint\n",
    "\n",
    "def smiles_onehot(smiles=None):\n",
    "    smiles_one_hot = np.zeros((len(smiles),65))\n",
    "    for i, amino_acid in enumerate(smiles):\n",
    "        smiles_one_hot[i, smiles_dict[amino_acid]] = 1\n",
    "    return np.array(smiles_one_hot)\n",
    "def smiles_string(data, max_len):\n",
    "    toks_list = []\n",
    "    mask_attn_list = []\n",
    "    toks = [smiles_dict[char] for char in data]\n",
    "    if len(toks) > max_len:\n",
    "        toks = toks[:max_len]\n",
    "        mask_attn = [1]*max_len\n",
    "    else:\n",
    "        toks = toks + [0] * (max_len - len(toks))\n",
    "        mask_attn = [1] * len(data) + [0] * (max_len - len(data))\n",
    "    return toks,mask_attn\n",
    "# 生成ECFP6分子指纹、ont-hot编码\n",
    "def data_processed(data):\n",
    "    fingerprint_list = []\n",
    "    one_hot_list = []\n",
    "    lable_list = []\n",
    "    toks_list = []\n",
    "    for idx, data in enumerate(data):\n",
    "        fingerprint = generate_ecfp6_fingerprint(data.smiles)\n",
    "        # 将二进制字符串转换为整数\n",
    "        integer_value = int(fingerprint, 2)\n",
    "        # 将整数转换为 NumPy 数组\n",
    "        fingerprint = np.array([int(bit) for bit in bin(integer_value)[2:].zfill(len(fingerprint))])\n",
    "        fingerprint_list.append(fingerprint)\n",
    "        lable_list.append(int(data.y))\n",
    "        # print(idx,fingerprint,data.y.numpy())\n",
    "    return fingerprint_list,lable_list"
   ]
  },
  {
   "cell_type": "code",
   "execution_count": 4,
   "metadata": {},
   "outputs": [
    {
     "name": "stdout",
     "output_type": "stream",
     "text": [
      "682 166\n"
     ]
    }
   ],
   "source": [
    "train_root = '/home/zengxin/fpk/pycharm_project/GNN-DDAS/data/merge/merge_data/train_data'\n",
    "test_root = '/home/zengxin/fpk/pycharm_project/GNN-DDAS/data/merge/merge_data/test_data'\n",
    "temp_train_root = '/home/zengxin/fpk/pycharm_project/GNN-DDAS/data/merge/merge_data/resample/train'\n",
    "raw_train_root = '/home/zengxin/fpk/pycharm_project/GNN-DDAS/data/merge/merge_data/train_data/raw/train_data.csv'\n",
    "temp_test_root = '/home/zengxin/fpk/pycharm_project/GNN-DDAS/data/merge/merge_data/resample/test'\n",
    "raw_test_root = '/home/zengxin/fpk/pycharm_project/GNN-DDAS/data/merge/merge_data/test_data/raw/test_data.csv'\n",
    "\n",
    "# train_set = SMILESDataset(root=train_root,raw_dataset='train_data.csv',processed_data='train.pt',max_node_num=125)\n",
    "# test_set = SMILESDataset(root=test_root,raw_dataset='test_data.csv',processed_data='test.pt',max_node_num=125)\n",
    "train_set = resampled(temp_train_root=temp_train_root,raw_train_root=raw_train_root,ratio=1)\n",
    "test_set = resampled(temp_train_root=temp_test_root,raw_train_root=raw_test_root,ratio=1)\n",
    "# train_set, test_set = train_test_split(train_set,test_size=0.1,random_state=42)\n",
    "print(len(train_set),len(test_set))"
   ]
  },
  {
   "cell_type": "code",
   "execution_count": 5,
   "metadata": {},
   "outputs": [],
   "source": [
    "def svm(rf=None,X_train=None,y_train=None,X_test=None,y_test=None,param=None,cv=5,model_path=None,data_name=None):\n",
    "\n",
    "    gs = GridSearchCV(rf,param_grid=param,cv=cv)\n",
    "    gs.fit(X_train,y_train)\n",
    "    res = gs.score(X_test,y_test)\n",
    "    y_pred = gs.predict(X_test)\n",
    "    y_prob = gs.predict_proba(X_test)[:, 1]\n",
    "    f1 = f1_score(y_test,y_pred)\n",
    "    ck = cohen_kappa_score(y_test,y_pred)\n",
    "    mcc = matthews_corrcoef(y_test,y_pred)\n",
    "    auprc = average_precision_score(y_test,y_pred)\n",
    "    acc = accuracy_score(y_test,y_pred)\n",
    "    best_params = gs.best_params_\n",
    "    best_kernel = best_params[\"kernel\"]\n",
    "    best_c = best_params[\"C\"]\n",
    "    print(f'f1:{f1},mcc:{mcc},acc:{acc},ck:{ck},auprc:{auprc}')\n",
    "    print(\"最佳 kernel:\", best_kernel)\n",
    "    print(\"最佳 C:\", best_c)\n",
    "    filename = model_path + 'svc_' + data_name + '.pkl'\n",
    "    pickle.dump(rf, open(filename, 'wb'))"
   ]
  },
  {
   "cell_type": "code",
   "execution_count": 6,
   "metadata": {},
   "outputs": [],
   "source": [
    "train_fingerprint,train_label = data_processed(train_set)\n",
    "test_fingerprint,test_lables = data_processed(test_set)\n",
    "train_fingerprint = np.array(train_fingerprint)"
   ]
  },
  {
   "cell_type": "code",
   "execution_count": 7,
   "metadata": {},
   "outputs": [],
   "source": [
    "svc_ecfp = SVC(probability=True)"
   ]
  },
  {
   "cell_type": "code",
   "execution_count": 8,
   "metadata": {},
   "outputs": [
    {
     "name": "stdout",
     "output_type": "stream",
     "text": [
      "Roc:0.7186093772681085,f1:0.6545454545454545,mcc:0.3132757502627219,acc:0.6566265060240963,ck:0.3132530120481928,auprc:0.6031442844548928\n",
      "最佳 kernel: rbf\n",
      "最佳 C: 2\n"
     ]
    }
   ],
   "source": [
    "param = {'kernel':('linear','rbf','poly'),'C':[0.01,0.1,0.5,1,2]}\n",
    "model_path = '/home/zengxin/fpk/pycharm_project/GNN-DDAS/save_model/ML/merge/'\n",
    "svm(svc_ecfp,param=param,X_train=train_fingerprint,y_train=train_label,X_test=test_fingerprint,y_test=test_lables,cv=5,model_path=model_path,data_name='merge_ecfp')"
   ]
  },
  {
   "cell_type": "code",
   "execution_count": null,
   "metadata": {},
   "outputs": [],
   "source": []
  }
 ],
 "metadata": {
  "kernelspec": {
   "display_name": "fpk",
   "language": "python",
   "name": "python3"
  },
  "language_info": {
   "codemirror_mode": {
    "name": "ipython",
    "version": 3
   },
   "file_extension": ".py",
   "mimetype": "text/x-python",
   "name": "python",
   "nbconvert_exporter": "python",
   "pygments_lexer": "ipython3",
   "version": "3.8.18"
  }
 },
 "nbformat": 4,
 "nbformat_minor": 2
}
