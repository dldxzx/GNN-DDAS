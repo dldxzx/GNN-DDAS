{
 "cells": [
  {
   "cell_type": "code",
   "execution_count": 3,
   "metadata": {},
   "outputs": [],
   "source": [
    "import sys\n",
    "sys.path.append(\"/home/zengxin/fpk/pycharm_project/GNN-DDAS\")\n",
    "from sklearn.svm import SVC\n",
    "from sklearn.ensemble import AdaBoostClassifier\n",
    "from sklearn.preprocessing import StandardScaler\n",
    "from sklearn.model_selection import GridSearchCV\n",
    "from sklearn.metrics import matthews_corrcoef,roc_auc_score,f1_score, cohen_kappa_score, roc_curve, auc, roc_auc_score, average_precision_score,accuracy_score\n",
    "import pickle\n",
    "from rdkit import Chem\n",
    "from rdkit.Chem import AllChem\n",
    "from rdkit.Chem import DataStructs\n",
    "import numpy as np\n",
    "from torch import tensor\n",
    "from utils.graph_dataset import SMILESDataset\n",
    "from utils.resample import resampled\n",
    "np.random.seed(42)"
   ]
  },
  {
   "cell_type": "code",
   "execution_count": 4,
   "metadata": {},
   "outputs": [
    {
     "data": {
      "text/plain": [
       "{'#': 29,\n",
       " '%': 30,\n",
       " ')': 31,\n",
       " '(': 1,\n",
       " '+': 32,\n",
       " '-': 33,\n",
       " '/': 34,\n",
       " '.': 2,\n",
       " '1': 35,\n",
       " '0': 3,\n",
       " '3': 36,\n",
       " '2': 4,\n",
       " '5': 37,\n",
       " '4': 5,\n",
       " '7': 38,\n",
       " '6': 6,\n",
       " '9': 39,\n",
       " '8': 7,\n",
       " '=': 40,\n",
       " 'A': 41,\n",
       " '@': 8,\n",
       " 'C': 42,\n",
       " 'B': 9,\n",
       " 'E': 43,\n",
       " 'D': 10,\n",
       " 'G': 44,\n",
       " 'F': 11,\n",
       " 'I': 45,\n",
       " 'H': 12,\n",
       " 'K': 46,\n",
       " 'M': 47,\n",
       " 'L': 13,\n",
       " 'O': 48,\n",
       " 'N': 14,\n",
       " 'P': 15,\n",
       " 'S': 49,\n",
       " 'R': 16,\n",
       " 'U': 50,\n",
       " 'T': 17,\n",
       " 'W': 51,\n",
       " 'V': 18,\n",
       " 'Y': 52,\n",
       " '[': 53,\n",
       " 'Z': 19,\n",
       " ']': 54,\n",
       " '\\\\': 20,\n",
       " 'a': 55,\n",
       " 'c': 56,\n",
       " 'b': 21,\n",
       " 'e': 57,\n",
       " 'd': 22,\n",
       " 'g': 58,\n",
       " 'f': 23,\n",
       " 'i': 59,\n",
       " 'h': 24,\n",
       " 'm': 60,\n",
       " 'l': 25,\n",
       " 'o': 61,\n",
       " 'n': 26,\n",
       " 's': 62,\n",
       " 'r': 27,\n",
       " 'u': 63,\n",
       " 't': 28,\n",
       " 'y': 64,\n",
       " '*': 65}"
      ]
     },
     "execution_count": 4,
     "metadata": {},
     "output_type": "execute_result"
    }
   ],
   "source": [
    "# SMILES原子格式\n",
    "smiles_dict = {\"#\": 29, \"%\": 30, \")\": 31, \"(\": 1, \"+\": 32, \"-\": 33, \"/\": 34, \".\": 2, \n",
    "        \"1\": 35, \"0\": 3, \"3\": 36, \"2\": 4, \"5\": 37, \"4\": 5, \"7\": 38, \"6\": 6, \n",
    "        \"9\": 39, \"8\": 7, \"=\": 40, \"A\": 41, \"@\": 8, \"C\": 42, \"B\": 9, \"E\": 43, \n",
    "        \"D\": 10, \"G\": 44, \"F\": 11, \"I\": 45, \"H\": 12, \"K\": 46, \"M\": 47, \"L\": 13, \n",
    "        \"O\": 48, \"N\": 14, \"P\": 15, \"S\": 49, \"R\": 16, \"U\": 50, \"T\": 17, \"W\": 51, \n",
    "        \"V\": 18, \"Y\": 52, \"[\": 53, \"Z\": 19, \"]\": 54, \"\\\\\": 20, \"a\": 55, \"c\": 56, \n",
    "        \"b\": 21, \"e\": 57, \"d\": 22, \"g\": 58, \"f\": 23, \"i\": 59, \"h\": 24, \"m\": 60, \n",
    "        \"l\": 25, \"o\": 61, \"n\": 26, \"s\": 62, \"r\": 27, \"u\": 63, \"t\": 28, \"y\": 64,\"*\":65}\n",
    "smiles_dict"
   ]
  },
  {
   "cell_type": "code",
   "execution_count": 8,
   "metadata": {},
   "outputs": [],
   "source": [
    "def generate_ecfp6_fingerprint(smiles):\n",
    "    smiles = Chem.MolToSmiles(Chem.MolFromSmiles(smiles), isomericSmiles=True)\n",
    "    mol = Chem.MolFromSmiles(smiles)\n",
    "    fingerprint = AllChem.GetMorganFingerprintAsBitVect(mol, 6, nBits=1024)  # 使用Morgan算法，半径为3，生成ECFP6\n",
    "    fingerprint = fingerprint.ToBitString()\n",
    "    return fingerprint\n",
    "\n",
    "def smiles_onehot(smiles=None):\n",
    "    smiles_one_hot = np.zeros((len(smiles),65))\n",
    "    for i, amino_acid in enumerate(smiles):\n",
    "        smiles_one_hot[i, smiles_dict[amino_acid]] = 1\n",
    "    return np.array(smiles_one_hot)\n",
    "def smiles_string(data, max_len):\n",
    "    toks_list = []\n",
    "    mask_attn_list = []\n",
    "    toks = [smiles_dict[char] for char in data]\n",
    "    if len(toks) > max_len:\n",
    "        toks = toks[:max_len]\n",
    "        mask_attn = [1]*max_len\n",
    "    else:\n",
    "        toks = toks + [0] * (max_len - len(toks))\n",
    "        mask_attn = [1] * len(data) + [0] * (max_len - len(data))\n",
    "    return toks,mask_attn\n",
    "# 生成ECFP6分子指纹、ont-hot编码\n",
    "def data_processed(data):\n",
    "    fingerprint_list = []\n",
    "    one_hot_list = []\n",
    "    lable_list = []\n",
    "    toks_list = []\n",
    "    for idx, data in enumerate(data):\n",
    "        fingerprint = generate_ecfp6_fingerprint(data.smiles)\n",
    "        # 将二进制字符串转换为整数\n",
    "        integer_value = int(fingerprint, 2)\n",
    "        # 将整数转换为 NumPy 数组\n",
    "        fingerprint = np.array([int(bit) for bit in bin(integer_value)[2:].zfill(len(fingerprint))])\n",
    "        fingerprint_list.append(fingerprint)\n",
    "        lable_list.append(int(data.y))\n",
    "        # print(idx,fingerprint,data.y.numpy())\n",
    "    return fingerprint_list,lable_list"
   ]
  },
  {
   "cell_type": "code",
   "execution_count": 5,
   "metadata": {},
   "outputs": [
    {
     "name": "stdout",
     "output_type": "stream",
     "text": [
      "2764 684\n"
     ]
    }
   ],
   "source": [
    "train_root = '/home/zengxin/fpk/pycharm_project/GNN-DDAS/data/merge/merge_data/train_data'\n",
    "test_root = '/home/zengxin/fpk/pycharm_project/GNN-DDAS/data/merge/merge_data/test_data'\n",
    "temp_train_root = '/home/zengxin/fpk/pycharm_project/GNN-DDAS/data/merge/merge_data/resample/train'\n",
    "raw_train_root = '/home/zengxin/fpk/pycharm_project/GNN-DDAS/data/merge/merge_data/train_data/raw/train_data.csv'\n",
    "temp_test_root = '/home/zengxin/fpk/pycharm_project/GNN-DDAS/data/merge/merge_data/resample/test'\n",
    "raw_test_root = '/home/zengxin/fpk/pycharm_project/GNN-DDAS/data/merge/merge_data/test_data/raw/test_data.csv'\n",
    "\n",
    "train_set = SMILESDataset(root=train_root,raw_dataset='train_data.csv',processed_data='train.pt')\n",
    "test_set = SMILESDataset(root=test_root,raw_dataset='test_data.csv',processed_data='test.pt')\n",
    "# train_set = resampled(temp_train_root=temp_train_root,raw_train_root=raw_train_root,ratio=1)\n",
    "# test_set = resampled(temp_train_root=temp_test_root,raw_train_root=raw_test_root,ratio=1)\n",
    "# train_set, test_set = train_test_split(train_set,test_size=0.1,random_state=42)\n",
    "print(len(train_set),len(test_set))"
   ]
  },
  {
   "cell_type": "code",
   "execution_count": 11,
   "metadata": {},
   "outputs": [],
   "source": [
    "def adaboost(rf=None,X_train=None,y_train=None,X_test=None,y_test=None,param=None,cv=5,model_path=None,data_name=None):\n",
    "\n",
    "    gs = GridSearchCV(rf,param_grid=param,cv=cv)\n",
    "    gs.fit(X_train,y_train)\n",
    "    res = gs.score(X_test,y_test)\n",
    "    y_pred = gs.predict(X_test)\n",
    "    y_prob = gs.predict_proba(X_test)[:, 1]\n",
    "    f1 = f1_score(y_test,y_pred)\n",
    "    ck = cohen_kappa_score(y_test,y_pred)\n",
    "    mcc = matthews_corrcoef(y_test,y_pred)\n",
    "    auprc = average_precision_score(y_test,y_pred)\n",
    "    acc = accuracy_score(y_test,y_pred)\n",
    "    best_params = gs.best_params_\n",
    "    best_n_estimators = best_params[\"n_estimators\"]\n",
    "    best_learning_rate = best_params[\"learning_rate\"]\n",
    "    print(f'f1:{f1},mcc:{mcc},acc:{acc},ck:{ck},auprc:{auprc}')\n",
    "    print(\"最佳 best_alpha:\", best_n_estimators)\n",
    "    print(\"最佳 best_binarize:\", best_learning_rate)\n",
    "    filename = model_path + 'adaboost_' + data_name + '.pkl'\n",
    "    pickle.dump(rf, open(filename, 'wb'))"
   ]
  },
  {
   "cell_type": "code",
   "execution_count": 12,
   "metadata": {},
   "outputs": [],
   "source": [
    "train_fingerprint,train_label = data_processed(train_set)\n",
    "test_fingerprint,test_lables = data_processed(test_set)\n",
    "train_fingerprint = np.array(train_fingerprint)"
   ]
  },
  {
   "cell_type": "code",
   "execution_count": 13,
   "metadata": {},
   "outputs": [],
   "source": [
    "adaboost_ecfp = AdaBoostClassifier()"
   ]
  },
  {
   "cell_type": "code",
   "execution_count": 14,
   "metadata": {},
   "outputs": [
    {
     "name": "stdout",
     "output_type": "stream",
     "text": [
      "Roc:0.7654812260690014,f1:0.47997329773030706,mcc:0.10296457659939348,acc:0.8801169590643275,ck:0.02098097399197074,auprc:0.13193123370675686\n",
      "最佳 best_alpha: 250\n",
      "最佳 best_binarize: 0.1\n"
     ]
    }
   ],
   "source": [
    "param = {\n",
    "    'n_estimators': [50, 100, 200,210,220,230,240,250,260,270,280,290,300],\n",
    "    'learning_rate': [0.001,0.01, 0.1]\n",
    "}\n",
    "\n",
    "model_path = '/home/zengxin/fpk/pycharm_project/GNN-DDAS/save_model/ML/merge/'\n",
    "adaboost(adaboost_ecfp,param=param,X_train=train_fingerprint,y_train=train_label,X_test=test_fingerprint,y_test=test_lables,cv=5,model_path=model_path,data_name='merge_ecfp')"
   ]
  },
  {
   "cell_type": "code",
   "execution_count": 17,
   "metadata": {},
   "outputs": [
    {
     "data": {
      "text/html": [
       "<style>#sk-container-id-1 {color: black;}#sk-container-id-1 pre{padding: 0;}#sk-container-id-1 div.sk-toggleable {background-color: white;}#sk-container-id-1 label.sk-toggleable__label {cursor: pointer;display: block;width: 100%;margin-bottom: 0;padding: 0.3em;box-sizing: border-box;text-align: center;}#sk-container-id-1 label.sk-toggleable__label-arrow:before {content: \"▸\";float: left;margin-right: 0.25em;color: #696969;}#sk-container-id-1 label.sk-toggleable__label-arrow:hover:before {color: black;}#sk-container-id-1 div.sk-estimator:hover label.sk-toggleable__label-arrow:before {color: black;}#sk-container-id-1 div.sk-toggleable__content {max-height: 0;max-width: 0;overflow: hidden;text-align: left;background-color: #f0f8ff;}#sk-container-id-1 div.sk-toggleable__content pre {margin: 0.2em;color: black;border-radius: 0.25em;background-color: #f0f8ff;}#sk-container-id-1 input.sk-toggleable__control:checked~div.sk-toggleable__content {max-height: 200px;max-width: 100%;overflow: auto;}#sk-container-id-1 input.sk-toggleable__control:checked~label.sk-toggleable__label-arrow:before {content: \"▾\";}#sk-container-id-1 div.sk-estimator input.sk-toggleable__control:checked~label.sk-toggleable__label {background-color: #d4ebff;}#sk-container-id-1 div.sk-label input.sk-toggleable__control:checked~label.sk-toggleable__label {background-color: #d4ebff;}#sk-container-id-1 input.sk-hidden--visually {border: 0;clip: rect(1px 1px 1px 1px);clip: rect(1px, 1px, 1px, 1px);height: 1px;margin: -1px;overflow: hidden;padding: 0;position: absolute;width: 1px;}#sk-container-id-1 div.sk-estimator {font-family: monospace;background-color: #f0f8ff;border: 1px dotted black;border-radius: 0.25em;box-sizing: border-box;margin-bottom: 0.5em;}#sk-container-id-1 div.sk-estimator:hover {background-color: #d4ebff;}#sk-container-id-1 div.sk-parallel-item::after {content: \"\";width: 100%;border-bottom: 1px solid gray;flex-grow: 1;}#sk-container-id-1 div.sk-label:hover label.sk-toggleable__label {background-color: #d4ebff;}#sk-container-id-1 div.sk-serial::before {content: \"\";position: absolute;border-left: 1px solid gray;box-sizing: border-box;top: 0;bottom: 0;left: 50%;z-index: 0;}#sk-container-id-1 div.sk-serial {display: flex;flex-direction: column;align-items: center;background-color: white;padding-right: 0.2em;padding-left: 0.2em;position: relative;}#sk-container-id-1 div.sk-item {position: relative;z-index: 1;}#sk-container-id-1 div.sk-parallel {display: flex;align-items: stretch;justify-content: center;background-color: white;position: relative;}#sk-container-id-1 div.sk-item::before, #sk-container-id-1 div.sk-parallel-item::before {content: \"\";position: absolute;border-left: 1px solid gray;box-sizing: border-box;top: 0;bottom: 0;left: 50%;z-index: -1;}#sk-container-id-1 div.sk-parallel-item {display: flex;flex-direction: column;z-index: 1;position: relative;background-color: white;}#sk-container-id-1 div.sk-parallel-item:first-child::after {align-self: flex-end;width: 50%;}#sk-container-id-1 div.sk-parallel-item:last-child::after {align-self: flex-start;width: 50%;}#sk-container-id-1 div.sk-parallel-item:only-child::after {width: 0;}#sk-container-id-1 div.sk-dashed-wrapped {border: 1px dashed gray;margin: 0 0.4em 0.5em 0.4em;box-sizing: border-box;padding-bottom: 0.4em;background-color: white;}#sk-container-id-1 div.sk-label label {font-family: monospace;font-weight: bold;display: inline-block;line-height: 1.2em;}#sk-container-id-1 div.sk-label-container {text-align: center;}#sk-container-id-1 div.sk-container {/* jupyter's `normalize.less` sets `[hidden] { display: none; }` but bootstrap.min.css set `[hidden] { display: none !important; }` so we also need the `!important` here to be able to override the default hidden behavior on the sphinx rendered scikit-learn.org. See: https://github.com/scikit-learn/scikit-learn/issues/21755 */display: inline-block !important;position: relative;}#sk-container-id-1 div.sk-text-repr-fallback {display: none;}</style><div id=\"sk-container-id-1\" class=\"sk-top-container\"><div class=\"sk-text-repr-fallback\"><pre>AdaBoostClassifier()</pre><b>In a Jupyter environment, please rerun this cell to show the HTML representation or trust the notebook. <br />On GitHub, the HTML representation is unable to render, please try loading this page with nbviewer.org.</b></div><div class=\"sk-container\" hidden><div class=\"sk-item\"><div class=\"sk-estimator sk-toggleable\"><input class=\"sk-toggleable__control sk-hidden--visually\" id=\"sk-estimator-id-1\" type=\"checkbox\" checked><label for=\"sk-estimator-id-1\" class=\"sk-toggleable__label sk-toggleable__label-arrow\">AdaBoostClassifier</label><div class=\"sk-toggleable__content\"><pre>AdaBoostClassifier()</pre></div></div></div></div></div>"
      ],
      "text/plain": [
       "AdaBoostClassifier()"
      ]
     },
     "execution_count": 17,
     "metadata": {},
     "output_type": "execute_result"
    }
   ],
   "source": [
    "predictions_data = '/home/zengxin/fpk/pycharm_project/MT-DDAS/data/new_data/raw'\n",
    "predictions_data = SMILESDataset(root=predictions_data,raw_dataset='test_data.csv',processed_data='test.pt')\n",
    "predictions_fingerprint,test_lables = data_processed(predictions_data)\n",
    "predictions_model = '/home/zengxin/fpk/pycharm_project/GNN-DDAS/save_model/ML/merge/adaboost_merge_ecfp.pkl'\n",
    "with open(predictions_model, 'rb') as f:\n",
    "    loaded_model = pickle.load(f)\n",
    "\n",
    "# 拟合模型\n",
    "loaded_model.fit(train_fingerprint, train_label)\n"
   ]
  },
  {
   "cell_type": "code",
   "execution_count": 18,
   "metadata": {},
   "outputs": [
    {
     "name": "stdout",
     "output_type": "stream",
     "text": [
      "Predictions: [0 0 0 0 0 0 0 1 0 0 0 0 0 0 0 0 0]\n"
     ]
    }
   ],
   "source": [
    "# 进行预测\n",
    "predictions = loaded_model.predict(predictions_fingerprint)\n",
    "\n",
    "# 输出预测结果\n",
    "print(\"Predictions:\", predictions)"
   ]
  },
  {
   "cell_type": "code",
   "execution_count": null,
   "metadata": {},
   "outputs": [],
   "source": []
  }
 ],
 "metadata": {
  "kernelspec": {
   "display_name": "fpk",
   "language": "python",
   "name": "python3"
  },
  "language_info": {
   "codemirror_mode": {
    "name": "ipython",
    "version": 3
   },
   "file_extension": ".py",
   "mimetype": "text/x-python",
   "name": "python",
   "nbconvert_exporter": "python",
   "pygments_lexer": "ipython3",
   "version": "3.8.18"
  }
 },
 "nbformat": 4,
 "nbformat_minor": 2
}
